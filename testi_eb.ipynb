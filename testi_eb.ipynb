{
 "cells": [
  {
   "cell_type": "markdown",
   "id": "31fb5a79",
   "metadata": {},
   "source": [
    "# Jupyter notebook koodien testailuun"
   ]
  },
  {
   "cell_type": "markdown",
   "id": "a9df658b",
   "metadata": {},
   "source": [
    "Ja sitten toinen testi"
   ]
  },
  {
   "cell_type": "markdown",
   "id": "34613d44",
   "metadata": {},
   "source": []
  }
 ],
 "metadata": {
  "language_info": {
   "name": "python"
  }
 },
 "nbformat": 4,
 "nbformat_minor": 5
}
